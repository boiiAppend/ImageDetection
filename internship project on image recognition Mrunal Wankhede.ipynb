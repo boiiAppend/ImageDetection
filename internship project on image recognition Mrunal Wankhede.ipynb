{
 "cells": [
  {
   "cell_type": "code",
   "execution_count": 139,
   "id": "6750cb5d",
   "metadata": {},
   "outputs": [],
   "source": [
    "import keras\n",
    "from keras.datasets import cifar10\n",
    "from keras.models import Sequential\n",
    "from keras.layers import Dense, Dropout, Flatten, Conv2D, MaxPooling2D\n",
    "from pathlib import Path\n",
    "from keras.utils.np_utils import to_categorical"
   ]
  },
  {
   "cell_type": "code",
   "execution_count": 140,
   "id": "76f7b80d",
   "metadata": {},
   "outputs": [],
   "source": [
    "(X_train, y_train),(X_test, y_test)=cifar10.load_data()"
   ]
  },
  {
   "cell_type": "code",
   "execution_count": 141,
   "id": "d42d2976",
   "metadata": {},
   "outputs": [],
   "source": [
    "import os \n",
    "os.environ['KMP_DUPLICATE_LIB_OK']='True'\n",
    "#kernel was dying alot , so aftering google a bit. they suggested my to add this to code and kernel won't die"
   ]
  },
  {
   "cell_type": "code",
   "execution_count": 142,
   "id": "67c049a1",
   "metadata": {},
   "outputs": [],
   "source": [
    "X_train=X_train.astype('float32')\n",
    "X_test=X_test.astype('float32')\n",
    "X_train/=255.0\n",
    "X_test/=255.0"
   ]
  },
  {
   "cell_type": "code",
   "execution_count": 143,
   "id": "76a60ff5",
   "metadata": {},
   "outputs": [],
   "source": [
    "y_train=to_categorical(y_train,10)\n",
    "y_test=to_categorical(y_test,10)"
   ]
  },
  {
   "cell_type": "code",
   "execution_count": 144,
   "id": "34774450",
   "metadata": {},
   "outputs": [],
   "source": [
    "model=Sequential()\n",
    "model.add(Conv2D(32,(3,3),padding='same',input_shape=(32,32,3),activation='relu'))\n",
    "model.add(Conv2D(32,(3,3),activation='relu'))\n",
    "model.add(MaxPooling2D(pool_size=(2,2)))\n",
    "model.add(Dropout(0.25))\n",
    "\n",
    "model.add(Conv2D(64,(3,3),padding='same',activation='relu'))\n",
    "model.add(Conv2D(32,(3,3),activation='relu'))\n",
    "model.add(MaxPooling2D(pool_size=(2,2)))\n",
    "model.add(Dropout(0.25))\n",
    "\n",
    "model.add(Flatten())\n",
    "model.add(Dense(512, activation='relu'))\n",
    "model.add(Dropout(0.5))\n",
    "model.add(Dense(10,activation='softmax'))"
   ]
  },
  {
   "cell_type": "code",
   "execution_count": 145,
   "id": "de7b2a15",
   "metadata": {},
   "outputs": [
    {
     "name": "stdout",
     "output_type": "stream",
     "text": [
      "Model: \"sequential_3\"\n",
      "_________________________________________________________________\n",
      " Layer (type)                Output Shape              Param #   \n",
      "=================================================================\n",
      " conv2d_12 (Conv2D)          (None, 32, 32, 32)        896       \n",
      "                                                                 \n",
      " conv2d_13 (Conv2D)          (None, 30, 30, 32)        9248      \n",
      "                                                                 \n",
      " max_pooling2d_6 (MaxPooling  (None, 15, 15, 32)       0         \n",
      " 2D)                                                             \n",
      "                                                                 \n",
      " dropout_9 (Dropout)         (None, 15, 15, 32)        0         \n",
      "                                                                 \n",
      " conv2d_14 (Conv2D)          (None, 15, 15, 64)        18496     \n",
      "                                                                 \n",
      " conv2d_15 (Conv2D)          (None, 13, 13, 32)        18464     \n",
      "                                                                 \n",
      " max_pooling2d_7 (MaxPooling  (None, 6, 6, 32)         0         \n",
      " 2D)                                                             \n",
      "                                                                 \n",
      " dropout_10 (Dropout)        (None, 6, 6, 32)          0         \n",
      "                                                                 \n",
      " flatten_3 (Flatten)         (None, 1152)              0         \n",
      "                                                                 \n",
      " dense_6 (Dense)             (None, 512)               590336    \n",
      "                                                                 \n",
      " dropout_11 (Dropout)        (None, 512)               0         \n",
      "                                                                 \n",
      " dense_7 (Dense)             (None, 10)                5130      \n",
      "                                                                 \n",
      "=================================================================\n",
      "Total params: 642,570\n",
      "Trainable params: 642,570\n",
      "Non-trainable params: 0\n",
      "_________________________________________________________________\n"
     ]
    }
   ],
   "source": [
    "model.compile(\n",
    "loss='categorical_crossentropy',\n",
    "optimizer=\"adam\",\n",
    "metrics=['accuracy'])\n",
    "\n",
    "model.summary()"
   ]
  },
  {
   "cell_type": "code",
   "execution_count": 146,
   "id": "a87b225b",
   "metadata": {},
   "outputs": [
    {
     "name": "stdout",
     "output_type": "stream",
     "text": [
      "Epoch 1/10\n",
      "1563/1563 [==============================] - 207s 132ms/step - loss: 1.5737 - accuracy: 0.4206 - val_loss: 1.1842 - val_accuracy: 0.5723\n",
      "Epoch 2/10\n",
      "1563/1563 [==============================] - 206s 132ms/step - loss: 1.1736 - accuracy: 0.5802 - val_loss: 0.9873 - val_accuracy: 0.6477\n",
      "Epoch 3/10\n",
      "1563/1563 [==============================] - 163s 104ms/step - loss: 1.0112 - accuracy: 0.6410 - val_loss: 0.8767 - val_accuracy: 0.6917\n",
      "Epoch 4/10\n",
      "1563/1563 [==============================] - 215s 137ms/step - loss: 0.9245 - accuracy: 0.6739 - val_loss: 0.8230 - val_accuracy: 0.7109\n",
      "Epoch 5/10\n",
      "1563/1563 [==============================] - 233s 149ms/step - loss: 0.8618 - accuracy: 0.6973 - val_loss: 0.8029 - val_accuracy: 0.7261\n",
      "Epoch 6/10\n",
      "1563/1563 [==============================] - 236s 151ms/step - loss: 0.8182 - accuracy: 0.7140 - val_loss: 0.7542 - val_accuracy: 0.7340\n",
      "Epoch 7/10\n",
      "1563/1563 [==============================] - 188s 120ms/step - loss: 0.7880 - accuracy: 0.7224 - val_loss: 0.7304 - val_accuracy: 0.7479\n",
      "Epoch 8/10\n",
      "1563/1563 [==============================] - 196s 125ms/step - loss: 0.7480 - accuracy: 0.7378 - val_loss: 0.7017 - val_accuracy: 0.7554\n",
      "Epoch 9/10\n",
      "1563/1563 [==============================] - 195s 125ms/step - loss: 0.7255 - accuracy: 0.7473 - val_loss: 0.6939 - val_accuracy: 0.7606\n",
      "Epoch 10/10\n",
      "1563/1563 [==============================] - 174s 112ms/step - loss: 0.7105 - accuracy: 0.7507 - val_loss: 0.6808 - val_accuracy: 0.7609\n"
     ]
    },
    {
     "data": {
      "text/plain": [
       "<keras.callbacks.History at 0x2248fc74b80>"
      ]
     },
     "execution_count": 146,
     "metadata": {},
     "output_type": "execute_result"
    }
   ],
   "source": [
    "model.fit(\n",
    "    X_train,\n",
    "    y_train,\n",
    "    batch_size=32,\n",
    "    epochs=10,\n",
    "    validation_data=(X_test, y_test),\n",
    "    shuffle=True)"
   ]
  },
  {
   "cell_type": "code",
   "execution_count": 159,
   "id": "eac3bb41",
   "metadata": {},
   "outputs": [
    {
     "data": {
      "text/plain": [
       "4405"
      ]
     },
     "execution_count": 159,
     "metadata": {},
     "output_type": "execute_result"
    }
   ],
   "source": [
    "model_structure=model.to_json()\n",
    "f=Path(\"model_structure.json\")\n",
    "f.write_text(model_structure)"
   ]
  },
  {
   "cell_type": "code",
   "execution_count": 160,
   "id": "f4c9b998",
   "metadata": {},
   "outputs": [],
   "source": [
    "model.save_weights(\"model_weight.h5\")"
   ]
  },
  {
   "cell_type": "code",
   "execution_count": 161,
   "id": "e5c67e16",
   "metadata": {},
   "outputs": [],
   "source": [
    "from keras.models import model_from_json\n",
    "from pathlib import Path\n",
    "from keras.preprocessing import image\n",
    "import numpy as np"
   ]
  },
  {
   "cell_type": "code",
   "execution_count": 162,
   "id": "d62e3e55",
   "metadata": {},
   "outputs": [],
   "source": [
    "class_labels=[\n",
    "    \"Planes\",\n",
    "    \"car\",\n",
    "    \"Bird\",\n",
    "    \"Cat\",\n",
    "    \"Deer\",\n",
    "    \"Dog\",\n",
    "    \"Frog\",\n",
    "    \"Horse\",\n",
    "    \"Boat\",\n",
    "    \"Truck\"\n",
    "]"
   ]
  },
  {
   "cell_type": "code",
   "execution_count": 163,
   "id": "3c57cb99",
   "metadata": {},
   "outputs": [],
   "source": [
    "f=Path(\"model_structure.json\")\n",
    "model_structure=f.read_text()\n",
    "model=model_from_json(model_structure)"
   ]
  },
  {
   "cell_type": "code",
   "execution_count": 164,
   "id": "fdd733ca",
   "metadata": {},
   "outputs": [
    {
     "data": {
      "text/plain": [
       "<matplotlib.image.AxesImage at 0x2248d1b1c90>"
      ]
     },
     "execution_count": 164,
     "metadata": {},
     "output_type": "execute_result"
    },
    {
     "data": {
      "image/png": "[encoded data removed]",
      "text/plain": [
       "<Figure size 640x480 with 1 Axes>"
      ]
     },
     "metadata": {},
     "output_type": "display_data"
    }
   ],
   "source": [
    "import matplotlib.pyplot as plt\n",
    "from tensorflow.keras.utils import load_img, img_to_array \n",
    "img=load_img(r\"C:\\Users\\mruna\\OneDrive\\Desktop\\car.jpeg\",target_size=(32,32))\n",
    "plt.imshow(img)"
   ]
  },
  {
   "cell_type": "code",
   "execution_count": 165,
   "id": "94a3d639",
   "metadata": {},
   "outputs": [],
   "source": [
    "from tensorflow.keras.utils import img_to_array\n",
    "image_to_test=img_to_array(img)\n",
    "import numpy as np\n",
    "list_of_images=np.expand_dims(image_to_test,axis=0)"
   ]
  },
  {
   "cell_type": "code",
   "execution_count": 166,
   "id": "0f6da8d4",
   "metadata": {},
   "outputs": [
    {
     "name": "stdout",
     "output_type": "stream",
     "text": [
      "1/1 [==============================] - 0s 91ms/step\n"
     ]
    }
   ],
   "source": [
    "results=model.predict(list_of_images)"
   ]
  },
  {
   "cell_type": "code",
   "execution_count": 167,
   "id": "effb30d0",
   "metadata": {},
   "outputs": [],
   "source": [
    "single_result=results[0]"
   ]
  },
  {
   "cell_type": "code",
   "execution_count": 168,
   "id": "d3ad4a39",
   "metadata": {},
   "outputs": [],
   "source": [
    "most_likely_class_index=int(np.argmax(single_result))\n",
    "class_likelihood=single_result[most_likely_class_index]"
   ]
  },
  {
   "cell_type": "code",
   "execution_count": 169,
   "id": "2c6504d0",
   "metadata": {},
   "outputs": [],
   "source": [
    "class_label=class_labels[most_likely_class_index]"
   ]
  },
  {
   "cell_type": "code",
   "execution_count": 170,
   "id": "70e17688",
   "metadata": {},
   "outputs": [
    {
     "name": "stdout",
     "output_type": "stream",
     "text": [
      "This is a image of a car likelihood: 0.999901\n"
     ]
    }
   ],
   "source": [
    "print(\"This is a image of a {} likelihood: {:2f}\".format(class_label, class_likelihood))"
   ]
  },
  {
   "cell_type": "code",
   "execution_count": null,
   "id": "7adec1d0",
   "metadata": {},
   "outputs": [],
   "source": []
  },
  {
   "cell_type": "code",
   "execution_count": null,
   "id": "1012a276",
   "metadata": {},
   "outputs": [],
   "source": []
  }
 ],
 "metadata": {
  "kernelspec": {
   "display_name": "Python 3 (ipykernel)",
   "language": "python",
   "name": "python3"
  },
  "language_info": {
   "codemirror_mode": {
    "name": "ipython",
    "version": 3
   },
   "file_extension": ".py",
   "mimetype": "text/x-python",
   "name": "python",
   "nbconvert_exporter": "python",
   "pygments_lexer": "ipython3",
   "version": "3.10.9"
  }
 },
 "nbformat": 4,
 "nbformat_minor": 5
}
